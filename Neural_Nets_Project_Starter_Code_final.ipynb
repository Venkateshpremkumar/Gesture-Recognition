{
 "cells": [
  {
   "cell_type": "markdown",
   "metadata": {},
   "source": [
    "## Gesture Recognition"
   ]
  },
  {
   "cell_type": "markdown",
   "metadata": {},
   "source": [
    "#### In this group project, you are going to build a 3D Conv & Cnn+Rnn model that will be able to predict the 5 gestures correctly. Please import the following libraries to get started."
   ]
  },
  {
   "cell_type": "code",
   "execution_count": 1,
   "metadata": {},
   "outputs": [
    {
     "name": "stderr",
     "output_type": "stream",
     "text": [
      "Using TensorFlow backend.\n"
     ]
    }
   ],
   "source": [
    "import numpy as np\n",
    "import os\n",
    "from scipy.misc import imread, imresize\n",
    "import datetime\n",
    "import cv2\n",
    "import matplotlib.pyplot as plt\n",
    "import warnings\n",
    "warnings.filterwarnings(\"ignore\")\n",
    "from keras import backend as K\n",
    "import tensorflow as tf\n",
    "import random as rn\n",
    "import abc\n",
    "from sys import getsizeof"
   ]
  },
  {
   "cell_type": "code",
   "execution_count": 2,
   "metadata": {},
   "outputs": [],
   "source": [
    "np.random.seed(30)\n",
    "\n",
    "rn.seed(30)\n",
    "\n",
    "tf.set_random_seed(30)"
   ]
  },
  {
   "cell_type": "code",
   "execution_count": 3,
   "metadata": {},
   "outputs": [
    {
     "data": {
      "text/plain": [
       "['model_init_2020-06-2816_46_12.927062',\n",
       " 'train',\n",
       " 'model_init_2020-06-2818_51_49.959599',\n",
       " 'model_init_2020-06-2815_43_10.084580',\n",
       " 'Neural_Nets_Project_Starter.ipynb',\n",
       " 'val',\n",
       " 'model_init_2020-06-2817_57_58.424462',\n",
       " 'model_init_2020-06-2907_24_41.255214',\n",
       " 'model_init_2020-06-2817_21_29.743583',\n",
       " 'model_init_2020-06-2908_42_49.606984',\n",
       " 'model_init_2020-06-2908_08_44.074049',\n",
       " 'Neural_Nets_Project_Starter_Code_final.ipynb',\n",
       " 'val.csv',\n",
       " '.ipynb_checkpoints',\n",
       " 'model_init_2020-06-2907_53_02.010162',\n",
       " 'model_init_2020-06-2818_14_17.454572',\n",
       " 'train.csv',\n",
       " 'model_init_2020-06-2906_50_20.825697',\n",
       " 'Neural_Nets_Project_Starter_Code.ipynb',\n",
       " 'model_init_2020-06-2817_54_59.992343',\n",
       " 'model_init_2020-06-2906_14_33.312744',\n",
       " 'model_init_2020-06-2907_50_23.382046']"
      ]
     },
     "execution_count": 3,
     "metadata": {},
     "output_type": "execute_result"
    }
   ],
   "source": [
    "os.listdir()"
   ]
  },
  {
   "cell_type": "markdown",
   "metadata": {},
   "source": [
    "#### In this block, you read the folder names for training and validation. You also set the batch_size here. Note that you set the batch size in such a way that you are able to use the GPU in full capacity. You keep increasing the batch size until the machine throws an error."
   ]
  },
  {
   "cell_type": "code",
   "execution_count": 4,
   "metadata": {},
   "outputs": [],
   "source": [
    "train_doc = np.random.permutation(open(r'train.csv').readlines())\n",
    "val_doc = np.random.permutation(open(r'val.csv').readlines())\n",
    "batch_size = 10 #experiment with the batch size"
   ]
  },
  {
   "cell_type": "code",
   "execution_count": 5,
   "metadata": {},
   "outputs": [],
   "source": [
    "project_folder='train'"
   ]
  },
  {
   "cell_type": "code",
   "execution_count": 6,
   "metadata": {},
   "outputs": [],
   "source": [
    "rows = 120   # X \n",
    "cols = 120   # Y \n",
    "channel = 3  # number of channels in images 3 for color(RGB)\n",
    "frames=15"
   ]
  },
  {
   "cell_type": "code",
   "execution_count": 7,
   "metadata": {},
   "outputs": [],
   "source": [
    "#data resizing - Resizing all the images, so we can have all the images in a specific size\n",
    "def crop_resize_img(img):\n",
    "    if img.shape[0] != img.shape[1]:\n",
    "        img=img[0:120,10:150]\n",
    "    resized_image = imresize(img, (rows,cols))\n",
    "    return resized_image"
   ]
  },
  {
   "cell_type": "code",
   "execution_count": 8,
   "metadata": {},
   "outputs": [],
   "source": [
    "#using percentile to deal with outliers in the data.\n",
    "def normalize_image(img):\n",
    "    #using percentile for normalization for images, as min-max is giving better results.\n",
    "    # normalized_image= img - np.percentile(img,15)/ np.percentile(img,85) - np.percentile(img,15) \n",
    "    normalized_image= (img - np.min(img))/(np.max(img)- np.min(img))\n",
    "    return normalized_image"
   ]
  },
  {
   "cell_type": "code",
   "execution_count": 9,
   "metadata": {},
   "outputs": [],
   "source": [
    "# Preprocessing the images before feed data to the model in batches.\n",
    "\n",
    "\n",
    "def fetch_aug_batchdata(source_path, folder_list, batch_num, batch_size, t,validation):\n",
    "    \n",
    "    # intialize variables to store data read from train data\n",
    "    batch_data = np.zeros((batch_size,frames,rows,cols,channel)) # x is the number of images you use for each video, (y,z) is the final size of the input images and 3 is the number of channels RGB\n",
    "    batch_labels = np.zeros((batch_size,5)) # batch_labels is the one hot representation of the output\n",
    "    #print(batch_data)\n",
    "    #print(batch_labels)\n",
    "    # intialize variables for augumented batch data with affine transformation\n",
    "    batch_data_aug,batch_label_aug = batch_data,batch_labels\n",
    "    #print(batch_data_aug)\n",
    "    #print(batch_label_aug)\n",
    "    # intialize variables for augmented batch data with horizontal flip\n",
    "    batch_data_flip,batch_label_flip = batch_data,batch_labels\n",
    "    \n",
    "    #create a list of image numbers you want to use for a particular video using full frames\n",
    "    img_idx = [x for x in range(0, 30,2)] \n",
    "    \n",
    "    for folder in range(batch_size): # iterate over the batch_size\n",
    "        # read all the images in the folder\n",
    "        imgs = sorted(os.listdir(source_path+'/'+ t[folder + (batch_num*batch_size)].split(';')[0])) \n",
    "        # create a random affine to be used in image transformation for buidling agumented data set\n",
    "        dx, dy = np.random.randint(-1.7, 1.8, 2)\n",
    "        M = np.float32([[1, 0, dx], [0, 1, dy]])\n",
    "        \n",
    "        #  Iterate over the frames for each folder to read them in\n",
    "        for idx, item in enumerate(img_idx):             \n",
    "            image = cv2.imread(source_path+'/'+ t[folder + (batch_num*batch_size)].strip().split(';')[0]+'/'+imgs[item], cv2.IMREAD_COLOR)\n",
    "            image = cv2.cvtColor(image, cv2.COLOR_BGR2RGB)           \n",
    "            # Cropping non symmetric frames\n",
    "            #crop the images and resize them. Note that the images are of 2 different shape \n",
    "            #and the conv3D will throw error if the inputs in a batch have different shapes \n",
    "            resized_image=crop_resize_img(image)\n",
    "            \n",
    "            #Normal data\n",
    "            batch_data[folder,idx,:,:,0] = normalize_image(resized_image[:, : , 0])#normalise and feed in the image\n",
    "            batch_data[folder,idx,:,:,1] = normalize_image(resized_image[:, : , 1])#normalise and feed in the image\n",
    "            batch_data[folder,idx,:,:,2] = normalize_image(resized_image[:, : , 2])#normalise and feed in the image\n",
    "            \n",
    "            x =resized_image.shape[0]\n",
    "            y =resized_image.shape[1]\n",
    "            #Data with affine transformation\n",
    "            batch_data_aug[folder,idx] = (cv2.warpAffine(resized_image, M, (x,y)))\n",
    "            \n",
    "            # Data with horizontal flip\n",
    "            batch_data_flip[folder,idx]= np.flip(resized_image,1)\n",
    "\n",
    "        batch_labels[folder, int(t[folder + (batch_num*batch_size)].strip().split(';')[2])] = 1\n",
    "        batch_label_aug[folder, int(t[folder + (batch_num*batch_size)].strip().split(';')[2])] = 1\n",
    "        \n",
    "        if int(t[folder + (batch_num * batch_size)].strip().split(';')[2])==0:\n",
    "            batch_label_flip[folder, 1] = 1\n",
    "        elif int(t[folder + (batch_num*batch_size)].strip().split(';')[2])==1:\n",
    "            batch_label_flip[folder, 0] = 1                    \n",
    "        else:\n",
    "            batch_label_flip[folder, int(t[folder + (batch_num*batch_size)].strip().split(';')[2])] = 1\n",
    "                  \n",
    "    #adding the augumented data in the main data.\n",
    "    \n",
    "    batch_data_final = np.append(batch_data, batch_data_aug, axis = 0)\n",
    "    batch_data_final = np.append(batch_data_final, batch_data_flip, axis = 0)\n",
    "\n",
    "    batch_label_final = np.append(batch_labels, batch_label_aug, axis = 0) \n",
    "    batch_label_final = np.append(batch_label_final, batch_label_flip, axis = 0)\n",
    "    \n",
    "    if validation:\n",
    "        batch_data_final=batch_data\n",
    "        batch_label_final= batch_labels\n",
    "        \n",
    "    return batch_data_final,batch_label_final"
   ]
  },
  {
   "cell_type": "markdown",
   "metadata": {},
   "source": [
    "### Generator"
   ]
  },
  {
   "cell_type": "markdown",
   "metadata": {},
   "source": [
    "#### This is one of the most important part of the code. The overall structure of the generator has been given. In the generator, you are going to preprocess the images as you have images of 2 different dimensions as well as create a batch of video frames. You have to experiment with img_idx, y,z and normalization such that you get high accuracy."
   ]
  },
  {
   "cell_type": "markdown",
   "metadata": {},
   "source": [
    "#### Note here that a video is represented above in the generator as (number of images, height, width, number of channels). Take this into consideration while creating the model architecture."
   ]
  },
  {
   "cell_type": "code",
   "execution_count": 10,
   "metadata": {},
   "outputs": [],
   "source": [
    "class ModelBuilderMoreAugmentation(metaclass= abc.ABCMeta):\n",
    "    \n",
    "    def initialize_path(self,project_folder):\n",
    "        self.train_doc = np.random.permutation(open('train.csv').readlines())\n",
    "        self.val_doc = np.random.permutation(open('val.csv').readlines())\n",
    "        self.train_path = 'train'\n",
    "        self.val_path = 'val'\n",
    "        self.num_train_sequences = len(self.train_doc)\n",
    "        self.num_val_sequences = len(self.val_doc)\n",
    "        \n",
    "    def initialize_image_properties(self,image_height=100,image_width=100):\n",
    "        self.image_height=image_height\n",
    "        self.image_width=image_width\n",
    "        self.channels=3\n",
    "        self.num_classes=5\n",
    "        self.total_frames=30\n",
    "          \n",
    "    def initialize_hyperparams(self,frames_to_sample=30,batch_size=20,num_epochs=20):\n",
    "        self.frames_to_sample=frames_to_sample\n",
    "        self.batch_size=batch_size\n",
    "        self.num_epochs=num_epochs\n",
    "        \n",
    "        \n",
    "    def generator(self,source_path, folder_list, augment=False):\n",
    "        img_idx = np.round(np.linspace(0,self.total_frames-1,self.frames_to_sample)).astype(int)\n",
    "        batch_size=self.batch_size\n",
    "        while True:\n",
    "            t = np.random.permutation(folder_list)\n",
    "            num_batches = len(t)//batch_size\n",
    "        \n",
    "            for batch in range(num_batches): \n",
    "                batch_data, batch_labels= self.one_batch_data(source_path,t,batch,batch_size,img_idx,augment)\n",
    "                yield batch_data, batch_labels \n",
    "\n",
    "            remaining_seq=len(t)%batch_size\n",
    "        \n",
    "            if (remaining_seq != 0):\n",
    "                batch_data, batch_labels= self.one_batch_data(source_path,t,num_batches,batch_size,img_idx,augment,remaining_seq)\n",
    "                yield batch_data, batch_labels \n",
    "    \n",
    "    \n",
    "    def one_batch_data(self,source_path,t,batch,batch_size,img_idx,augment,remaining_seq=0):\n",
    "    \n",
    "        seq_len = remaining_seq if remaining_seq else batch_size\n",
    "    \n",
    "        batch_data = np.zeros((seq_len,len(img_idx),self.image_height,self.image_width,self.channels)) \n",
    "        batch_labels = np.zeros((seq_len,self.num_classes)) \n",
    "    \n",
    "        if (augment): batch_data_aug = np.zeros((seq_len,len(img_idx),self.image_height,self.image_width,self.channels))\n",
    "\n",
    "        \n",
    "        for folder in range(seq_len): \n",
    "            imgs = os.listdir(source_path+'/'+ t[folder + (batch*batch_size)].split(';')[0]) \n",
    "            for idx,item in enumerate(img_idx): \n",
    "                image = imread(source_path+'/'+ t[folder + (batch*batch_size)].strip().split(';')[0]+'/'+imgs[item]).astype(np.float32)\n",
    "                image_resized=imresize(image,(self.image_height,self.image_width,3))\n",
    "            \n",
    "\n",
    "                batch_data[folder,idx,:,:,0] = (image_resized[:,:,0])/255\n",
    "                batch_data[folder,idx,:,:,1] = (image_resized[:,:,1])/255\n",
    "                batch_data[folder,idx,:,:,2] = (image_resized[:,:,2])/255\n",
    "            \n",
    "                if (augment):\n",
    "                    shifted = cv2.warpAffine(image, \n",
    "                                             np.float32([[1, 0, np.random.randint(-30,30)],[0, 1, np.random.randint(-30,30)]]), \n",
    "                                            (image.shape[1], image.shape[0]))\n",
    "                    \n",
    "                    gray = cv2.cvtColor(shifted,cv2.COLOR_BGR2GRAY)\n",
    "\n",
    "                    x0, y0 = np.argwhere(gray > 0).min(axis=0)\n",
    "                    x1, y1 = np.argwhere(gray > 0).max(axis=0) \n",
    "                    \n",
    "                    cropped=shifted[x0:x1,y0:y1,:]\n",
    "                    \n",
    "                    image_resized=imresize(cropped,(self.image_height,self.image_width,3))\n",
    "                    \n",
    "                    M = cv2.getRotationMatrix2D((self.image_width//2,self.image_height//2),\n",
    "                                                np.random.randint(-10,10), 1.0)\n",
    "                    rotated = cv2.warpAffine(image_resized, M, (self.image_width, self.image_height))\n",
    "                    \n",
    "                    #shifted = cv2.warpAffine(image_resized, \n",
    "                    #                        np.float32([[1, 0, np.random.randint(-3,3)],[0, 1, np.random.randint(-3,3)]]), \n",
    "                    #                        (image_resized.shape[1], image_resized.shape[0]))\n",
    "            \n",
    "                    batch_data_aug[folder,idx,:,:,0] = (rotated[:,:,0])/255\n",
    "                    batch_data_aug[folder,idx,:,:,1] = (rotated[:,:,1])/255\n",
    "                    batch_data_aug[folder,idx,:,:,2] = (rotated[:,:,2])/255\n",
    "                \n",
    "            \n",
    "            batch_labels[folder, int(t[folder + (batch*batch_size)].strip().split(';')[2])] = 1\n",
    "            \n",
    "    \n",
    "        if (augment):\n",
    "            batch_data=np.concatenate([batch_data,batch_data_aug])\n",
    "            batch_labels=np.concatenate([batch_labels,batch_labels])\n",
    "\n",
    "        \n",
    "        return(batch_data,batch_labels)\n",
    "    \n",
    "    \n",
    "    def train_model(self, model, augment_data=False):\n",
    "        train_generator = self.generator(self.train_path, self.train_doc,augment=augment_data)\n",
    "        val_generator = self.generator(self.val_path, self.val_doc)\n",
    "\n",
    "        model_name = 'model_init' + '_' + str(datetime.datetime.now()).replace(' ','').replace(':','_') + '/'\n",
    "    \n",
    "        if not os.path.exists(model_name):\n",
    "            os.mkdir(model_name)\n",
    "        \n",
    "        filepath = model_name + 'model-{epoch:05d}-{loss:.5f}-{categorical_accuracy:.5f}-{val_loss:.5f}-{val_categorical_accuracy:.5f}.h5'\n",
    "\n",
    "        checkpoint = ModelCheckpoint(filepath, monitor='val_loss', verbose=1, save_best_only=False, save_weights_only=False, mode='auto', period=1)\n",
    "        LR = ReduceLROnPlateau(monitor='val_loss', factor=0.2, verbose=1, patience=4)\n",
    "        callbacks_list = [checkpoint, LR]\n",
    "\n",
    "        if (self.num_train_sequences%self.batch_size) == 0:\n",
    "            steps_per_epoch = int(self.num_train_sequences/self.batch_size)\n",
    "        else:\n",
    "            steps_per_epoch = (self.num_train_sequences//self.batch_size) + 1\n",
    "\n",
    "        if (self.num_val_sequences%self.batch_size) == 0:\n",
    "            validation_steps = int(self.num_val_sequences/self.batch_size)\n",
    "        else:\n",
    "            validation_steps = (self.num_val_sequences//self.batch_size) + 1\n",
    "    \n",
    "        history=model.fit_generator(train_generator, steps_per_epoch=steps_per_epoch, epochs=self.num_epochs, verbose=1, \n",
    "                            callbacks=callbacks_list, validation_data=val_generator, \n",
    "                            validation_steps=validation_steps, class_weight=None, workers=1, initial_epoch=0)\n",
    "        return history\n",
    "\n",
    "        \n",
    "    @abc.abstractmethod\n",
    "    def define_model(self):\n",
    "        pass"
   ]
  },
  {
   "cell_type": "code",
   "execution_count": 11,
   "metadata": {},
   "outputs": [
    {
     "name": "stdout",
     "output_type": "stream",
     "text": [
      "# training sequences = 663\n",
      "# validation sequences = 100\n",
      "# epochs = 30\n"
     ]
    }
   ],
   "source": [
    "curr_dt_time = datetime.datetime.now()\n",
    "train_path = 'train'\n",
    "val_path = 'val'\n",
    "num_train_sequences = len(train_doc)\n",
    "print('# training sequences =', num_train_sequences)\n",
    "num_val_sequences = len(val_doc)\n",
    "print('# validation sequences =', num_val_sequences)\n",
    "num_epochs = 30# choose the number of epochs\n",
    "print ('# epochs =', num_epochs)"
   ]
  },
  {
   "cell_type": "markdown",
   "metadata": {},
   "source": [
    "### Model"
   ]
  },
  {
   "cell_type": "markdown",
   "metadata": {},
   "source": [
    "#### Here you make the model using different functionalities that Keras provides. Remember to use Conv3D and MaxPooling3D and not Conv2D and Maxpooling2D for a 3D convolution model. You would want to use TimeDistributed while building a Conv2D + RNN model. Also remember that the last layer is the softmax. Design the network in such a way that the model is able to give good accuracy on the least number of parameters so that it can fit in the memory of the webcam."
   ]
  },
  {
   "cell_type": "code",
   "execution_count": 12,
   "metadata": {},
   "outputs": [],
   "source": [
    "from keras.models import Sequential, Model\n",
    "from keras.layers import Dense, GRU, Flatten, TimeDistributed, Flatten, BatchNormalization, Activation, Dropout,LSTM\n",
    "from keras.layers.convolutional import Conv3D,Conv2D, MaxPooling3D,MaxPooling2D\n",
    "from keras.callbacks import ModelCheckpoint, ReduceLROnPlateau\n",
    "from keras import optimizers\n",
    "from keras.applications import ResNet50\n",
    "from keras.applications.resnet50 import preprocess_input\n",
    "from keras.applications import mobilenet\n",
    "from keras.layers.recurrent import LSTM, GRU\n",
    "from keras.optimizers import Adam\n",
    "from PIL import Image\n",
    "import matplotlib.pyplot as plt\n",
    "import matplotlib.image as mpimg \n",
    "\n",
    "\n",
    "#write your model here"
   ]
  },
  {
   "cell_type": "code",
   "execution_count": 13,
   "metadata": {},
   "outputs": [],
   "source": [
    "def plot(history):\n",
    "    fig, axes = plt.subplots(nrows=1, ncols=2, figsize=(15,4))\n",
    "    axes[0].plot(history.history['loss'])   \n",
    "    axes[0].plot(history.history['val_loss'])\n",
    "    axes[0].legend(['loss','val_loss'])\n",
    "\n",
    "    axes[1].plot(history.history['categorical_accuracy'])   \n",
    "    axes[1].plot(history.history['val_categorical_accuracy'])\n",
    "    axes[1].legend(['categorical_accuracy','val_categorical_accuracy'])"
   ]
  },
  {
   "cell_type": "markdown",
   "metadata": {},
   "source": [
    "### 1. CNN + RNN architecture"
   ]
  },
  {
   "cell_type": "markdown",
   "metadata": {},
   "source": [
    "#### Now that you have written the model, the next step is to compile the model. When you print the summary of the model, you'll see the total number of parameters you have to train."
   ]
  },
  {
   "cell_type": "code",
   "execution_count": 14,
   "metadata": {},
   "outputs": [],
   "source": [
    "mobilenet_transfer = mobilenet.MobileNet(weights='imagenet', include_top=False)\n",
    "\n",
    "class RNNCNN_TL1(ModelBuilderMoreAugmentation):\n",
    "    \n",
    "    def define_model(self,gru_cells=64,dense_neurons=64,dropout=0.25):\n",
    "        \n",
    "        model = Sequential()\n",
    "        model.add(TimeDistributed(mobilenet_transfer,input_shape=(self.frames_to_sample,self.image_height,self.image_width,self.channels)))\n",
    " \n",
    "        \n",
    "        model.add(TimeDistributed(BatchNormalization()))\n",
    "        model.add(TimeDistributed(MaxPooling2D((2, 2))))\n",
    "        model.add(TimeDistributed(Flatten()))\n",
    "\n",
    "        model.add(GRU(gru_cells))\n",
    "        model.add(Dropout(dropout))\n",
    "        \n",
    "        model.add(Dense(dense_neurons,activation='relu'))\n",
    "        model.add(Dropout(dropout))\n",
    "        \n",
    "        model.add(Dense(self.num_classes, activation='softmax'))\n",
    "        \n",
    "        \n",
    "        optimiser = optimizers.Adam()\n",
    "        model.compile(optimizer=optimiser, loss='categorical_crossentropy', metrics=['categorical_accuracy'])\n",
    "        return model"
   ]
  },
  {
   "cell_type": "code",
   "execution_count": 15,
   "metadata": {},
   "outputs": [
    {
     "name": "stdout",
     "output_type": "stream",
     "text": [
      "_________________________________________________________________\n",
      "Layer (type)                 Output Shape              Param #   \n",
      "=================================================================\n",
      "time_distributed_1 (TimeDist (None, 16, 3, 3, 1024)    3228864   \n",
      "_________________________________________________________________\n",
      "time_distributed_2 (TimeDist (None, 16, 3, 3, 1024)    4096      \n",
      "_________________________________________________________________\n",
      "time_distributed_3 (TimeDist (None, 16, 1, 1, 1024)    0         \n",
      "_________________________________________________________________\n",
      "time_distributed_4 (TimeDist (None, 16, 1024)          0         \n",
      "_________________________________________________________________\n",
      "gru_1 (GRU)                  (None, 128)               442752    \n",
      "_________________________________________________________________\n",
      "dropout_1 (Dropout)          (None, 128)               0         \n",
      "_________________________________________________________________\n",
      "dense_1 (Dense)              (None, 128)               16512     \n",
      "_________________________________________________________________\n",
      "dropout_2 (Dropout)          (None, 128)               0         \n",
      "_________________________________________________________________\n",
      "dense_2 (Dense)              (None, 5)                 645       \n",
      "=================================================================\n",
      "Total params: 3,692,869\n",
      "Trainable params: 3,668,933\n",
      "Non-trainable params: 23,936\n",
      "_________________________________________________________________\n"
     ]
    }
   ],
   "source": [
    "rnn_cnn_tl1=RNNCNN_TL1()\n",
    "rnn_cnn_tl1.initialize_path(project_folder)\n",
    "rnn_cnn_tl1.initialize_image_properties(image_height=120,image_width=120)\n",
    "rnn_cnn_tl1.initialize_hyperparams(frames_to_sample=16,batch_size=5,num_epochs=15)\n",
    "rnn_cnn_tl1_model=rnn_cnn_tl1.define_model(gru_cells=128,dense_neurons=128,dropout=0.25)\n",
    "rnn_cnn_tl1_model.summary()"
   ]
  },
  {
   "cell_type": "code",
   "execution_count": 16,
   "metadata": {},
   "outputs": [
    {
     "name": "stdout",
     "output_type": "stream",
     "text": [
      "Total Params: 3692869\n",
      "Epoch 1/15\n",
      "133/133 [==============================] - 205s 2s/step - loss: 1.2128 - categorical_accuracy: 0.5110 - val_loss: 0.6459 - val_categorical_accuracy: 0.7700\n",
      "\n",
      "Epoch 00001: saving model to model_init_2020-06-2917_29_15.848850/model-00001-1.21343-0.51056-0.64585-0.77000.h5\n",
      "Epoch 2/15\n",
      "133/133 [==============================] - 93s 702ms/step - loss: 0.6779 - categorical_accuracy: 0.7416 - val_loss: 0.4002 - val_categorical_accuracy: 0.8000\n",
      "\n",
      "Epoch 00002: saving model to model_init_2020-06-2917_29_15.848850/model-00002-0.67903-0.74133-0.40015-0.80000.h5\n",
      "Epoch 3/15\n",
      "133/133 [==============================] - 95s 716ms/step - loss: 0.5084 - categorical_accuracy: 0.8028 - val_loss: 0.5128 - val_categorical_accuracy: 0.8400\n",
      "\n",
      "Epoch 00003: saving model to model_init_2020-06-2917_29_15.848850/model-00003-0.50893-0.80317-0.51280-0.84000.h5\n",
      "Epoch 4/15\n",
      "133/133 [==============================] - 95s 713ms/step - loss: 0.4457 - categorical_accuracy: 0.8409 - val_loss: 0.4144 - val_categorical_accuracy: 0.8700\n",
      "\n",
      "Epoch 00004: saving model to model_init_2020-06-2917_29_15.848850/model-00004-0.44085-0.84238-0.41435-0.87000.h5\n",
      "Epoch 5/15\n",
      "133/133 [==============================] - 95s 714ms/step - loss: 0.3573 - categorical_accuracy: 0.8769 - val_loss: 0.4505 - val_categorical_accuracy: 0.8200\n",
      "\n",
      "Epoch 00005: saving model to model_init_2020-06-2917_29_15.848850/model-00005-0.35715-0.87707-0.45050-0.82000.h5\n",
      "Epoch 6/15\n",
      "133/133 [==============================] - 93s 701ms/step - loss: 0.3344 - categorical_accuracy: 0.8857 - val_loss: 0.3624 - val_categorical_accuracy: 0.8700\n",
      "\n",
      "Epoch 00006: saving model to model_init_2020-06-2917_29_15.848850/model-00006-0.33527-0.88537-0.36241-0.87000.h5\n",
      "Epoch 7/15\n",
      "133/133 [==============================] - 93s 700ms/step - loss: 0.3481 - categorical_accuracy: 0.8835 - val_loss: 0.3175 - val_categorical_accuracy: 0.9100\n",
      "\n",
      "Epoch 00007: saving model to model_init_2020-06-2917_29_15.848850/model-00007-0.34856-0.88311-0.31746-0.91000.h5\n",
      "Epoch 8/15\n",
      "133/133 [==============================] - 94s 704ms/step - loss: 0.2395 - categorical_accuracy: 0.9143 - val_loss: 0.3534 - val_categorical_accuracy: 0.8700\n",
      "\n",
      "Epoch 00008: saving model to model_init_2020-06-2917_29_15.848850/model-00008-0.24013-0.91403-0.35338-0.87000.h5\n",
      "Epoch 9/15\n",
      "133/133 [==============================] - 93s 700ms/step - loss: 0.2779 - categorical_accuracy: 0.9007 - val_loss: 0.4033 - val_categorical_accuracy: 0.8100\n",
      "\n",
      "Epoch 00009: saving model to model_init_2020-06-2917_29_15.848850/model-00009-0.27864-0.90045-0.40328-0.81000.h5\n",
      "Epoch 10/15\n",
      "133/133 [==============================] - 95s 713ms/step - loss: 0.2422 - categorical_accuracy: 0.9238 - val_loss: 0.1697 - val_categorical_accuracy: 0.9300\n",
      "\n",
      "Epoch 00010: saving model to model_init_2020-06-2917_29_15.848850/model-00010-0.23989-0.92459-0.16966-0.93000.h5\n",
      "Epoch 11/15\n",
      "133/133 [==============================] - 95s 714ms/step - loss: 0.2324 - categorical_accuracy: 0.9178 - val_loss: 0.2515 - val_categorical_accuracy: 0.9200\n",
      "\n",
      "Epoch 00011: saving model to model_init_2020-06-2917_29_15.848850/model-00011-0.22838-0.91855-0.25151-0.92000.h5\n",
      "Epoch 12/15\n",
      "133/133 [==============================] - 97s 727ms/step - loss: 0.1962 - categorical_accuracy: 0.9436 - val_loss: 0.2117 - val_categorical_accuracy: 0.9300\n",
      "\n",
      "Epoch 00012: saving model to model_init_2020-06-2917_29_15.848850/model-00012-0.19639-0.94344-0.21169-0.93000.h5\n",
      "Epoch 13/15\n",
      "133/133 [==============================] - 96s 724ms/step - loss: 0.1277 - categorical_accuracy: 0.9571 - val_loss: 0.2708 - val_categorical_accuracy: 0.9400\n",
      "\n",
      "Epoch 00013: saving model to model_init_2020-06-2917_29_15.848850/model-00013-0.12804-0.95701-0.27078-0.94000.h5\n",
      "Epoch 14/15\n",
      "133/133 [==============================] - 96s 722ms/step - loss: 0.1753 - categorical_accuracy: 0.9489 - val_loss: 0.4220 - val_categorical_accuracy: 0.8300\n",
      "\n",
      "Epoch 00014: saving model to model_init_2020-06-2917_29_15.848850/model-00014-0.17535-0.94872-0.42196-0.83000.h5\n",
      "\n",
      "Epoch 00014: ReduceLROnPlateau reducing learning rate to 0.00020000000949949026.\n",
      "Epoch 15/15\n",
      "133/133 [==============================] - 95s 715ms/step - loss: 0.1534 - categorical_accuracy: 0.9521 - val_loss: 0.2333 - val_categorical_accuracy: 0.9100\n",
      "\n",
      "Epoch 00015: saving model to model_init_2020-06-2917_29_15.848850/model-00015-0.15296-0.95249-0.23332-0.91000.h5\n"
     ]
    }
   ],
   "source": [
    "print(\"Total Params:\", rnn_cnn_tl1_model.count_params())\n",
    "history_model1=rnn_cnn_tl1.train_model(rnn_cnn_tl1_model,augment_data=True)"
   ]
  },
  {
   "cell_type": "code",
   "execution_count": 17,
   "metadata": {},
   "outputs": [
    {
     "data": {
      "image/png": "[encoded data removed]",
      "text/plain": [
       "<Figure size 1080x288 with 2 Axes>"
      ]
     },
     "metadata": {},
     "output_type": "display_data"
    }
   ],
   "source": [
    "plot(history_model1)"
   ]
  },
  {
   "cell_type": "markdown",
   "metadata": {},
   "source": [
    "### 2. Conv3D Model"
   ]
  },
  {
   "cell_type": "code",
   "execution_count": 19,
   "metadata": {},
   "outputs": [],
   "source": [
    "class ModelConv3D(ModelBuilderMoreAugmentation):\n",
    "    \n",
    "    def define_model(self,filtersize=(3,3,3),dense_neurons=64,dropout=0.25):\n",
    "\n",
    "        model = Sequential()\n",
    "        model.add(Conv3D(16, filtersize, padding='same',\n",
    "                 input_shape=(self.frames_to_sample,self.image_height,self.image_width,self.channels)))\n",
    "        model.add(Activation('relu'))\n",
    "        model.add(BatchNormalization())\n",
    "        model.add(MaxPooling3D(pool_size=(2, 2, 2)))\n",
    "\n",
    "        model.add(Conv3D(32, filtersize, padding='same'))\n",
    "        model.add(Activation('relu'))\n",
    "        model.add(BatchNormalization())\n",
    "        model.add(MaxPooling3D(pool_size=(2, 2, 2)))\n",
    "\n",
    "        model.add(Conv3D(64, filtersize, padding='same'))\n",
    "        model.add(Activation('relu'))\n",
    "        model.add(BatchNormalization())\n",
    "        model.add(MaxPooling3D(pool_size=(2, 2, 2)))\n",
    "\n",
    "        model.add(Conv3D(128, filtersize, padding='same'))\n",
    "        model.add(Activation('relu'))\n",
    "        model.add(BatchNormalization())\n",
    "        model.add(MaxPooling3D(pool_size=(2, 2, 2)))\n",
    "\n",
    "        model.add(Flatten())\n",
    "        model.add(Dense(dense_neurons,activation='relu'))\n",
    "        model.add(BatchNormalization())\n",
    "        model.add(Dropout(dropout))\n",
    "\n",
    "        model.add(Dense(dense_neurons,activation='relu'))\n",
    "        model.add(BatchNormalization())\n",
    "        model.add(Dropout(dropout))\n",
    "\n",
    "\n",
    "        model.add(Dense(self.num_classes,activation='softmax'))\n",
    "\n",
    "        optimiser = optimizers.Adam(lr=0.0002)\n",
    "        model.compile(optimizer=optimiser, loss='categorical_crossentropy', metrics=['categorical_accuracy'])\n",
    "        return model"
   ]
  },
  {
   "cell_type": "code",
   "execution_count": 20,
   "metadata": {},
   "outputs": [
    {
     "name": "stdout",
     "output_type": "stream",
     "text": [
      "_________________________________________________________________\n",
      "Layer (type)                 Output Shape              Param #   \n",
      "=================================================================\n",
      "conv3d_1 (Conv3D)            (None, 16, 120, 120, 16)  400       \n",
      "_________________________________________________________________\n",
      "activation_1 (Activation)    (None, 16, 120, 120, 16)  0         \n",
      "_________________________________________________________________\n",
      "batch_normalization_2 (Batch (None, 16, 120, 120, 16)  64        \n",
      "_________________________________________________________________\n",
      "max_pooling3d_1 (MaxPooling3 (None, 8, 60, 60, 16)     0         \n",
      "_________________________________________________________________\n",
      "conv3d_2 (Conv3D)            (None, 8, 60, 60, 32)     4128      \n",
      "_________________________________________________________________\n",
      "activation_2 (Activation)    (None, 8, 60, 60, 32)     0         \n",
      "_________________________________________________________________\n",
      "batch_normalization_3 (Batch (None, 8, 60, 60, 32)     128       \n",
      "_________________________________________________________________\n",
      "max_pooling3d_2 (MaxPooling3 (None, 4, 30, 30, 32)     0         \n",
      "_________________________________________________________________\n",
      "conv3d_3 (Conv3D)            (None, 4, 30, 30, 64)     16448     \n",
      "_________________________________________________________________\n",
      "activation_3 (Activation)    (None, 4, 30, 30, 64)     0         \n",
      "_________________________________________________________________\n",
      "batch_normalization_4 (Batch (None, 4, 30, 30, 64)     256       \n",
      "_________________________________________________________________\n",
      "max_pooling3d_3 (MaxPooling3 (None, 2, 15, 15, 64)     0         \n",
      "_________________________________________________________________\n",
      "conv3d_4 (Conv3D)            (None, 2, 15, 15, 128)    65664     \n",
      "_________________________________________________________________\n",
      "activation_4 (Activation)    (None, 2, 15, 15, 128)    0         \n",
      "_________________________________________________________________\n",
      "batch_normalization_5 (Batch (None, 2, 15, 15, 128)    512       \n",
      "_________________________________________________________________\n",
      "max_pooling3d_4 (MaxPooling3 (None, 1, 7, 7, 128)      0         \n",
      "_________________________________________________________________\n",
      "flatten_2 (Flatten)          (None, 6272)              0         \n",
      "_________________________________________________________________\n",
      "dense_3 (Dense)              (None, 256)               1605888   \n",
      "_________________________________________________________________\n",
      "batch_normalization_6 (Batch (None, 256)               1024      \n",
      "_________________________________________________________________\n",
      "dropout_3 (Dropout)          (None, 256)               0         \n",
      "_________________________________________________________________\n",
      "dense_4 (Dense)              (None, 256)               65792     \n",
      "_________________________________________________________________\n",
      "batch_normalization_7 (Batch (None, 256)               1024      \n",
      "_________________________________________________________________\n",
      "dropout_4 (Dropout)          (None, 256)               0         \n",
      "_________________________________________________________________\n",
      "dense_5 (Dense)              (None, 5)                 1285      \n",
      "=================================================================\n",
      "Total params: 1,762,613\n",
      "Trainable params: 1,761,109\n",
      "Non-trainable params: 1,504\n",
      "_________________________________________________________________\n"
     ]
    }
   ],
   "source": [
    "conv_3d=ModelConv3D()\n",
    "conv_3d.initialize_path(project_folder)\n",
    "conv_3d.initialize_image_properties(image_height=120,image_width=120)\n",
    "conv_3d.initialize_hyperparams(frames_to_sample=16,batch_size=30,num_epochs=25)\n",
    "conv_3d_model=conv_3d.define_model(filtersize=(2,2,2),dense_neurons=256,dropout=0.5)\n",
    "conv_3d_model.summary()"
   ]
  },
  {
   "cell_type": "code",
   "execution_count": 22,
   "metadata": {},
   "outputs": [
    {
     "name": "stdout",
     "output_type": "stream",
     "text": [
      "Total Params: 1762613\n",
      "Epoch 1/25\n",
      "23/23 [==============================] - 96s 4s/step - loss: 2.3408 - categorical_accuracy: 0.3021 - val_loss: 1.3482 - val_categorical_accuracy: 0.5600\n",
      "\n",
      "Epoch 00001: saving model to model_init_2020-06-2917_59_29.166634/model-00001-2.30067-0.30090-1.34817-0.56000.h5\n",
      "Epoch 2/25\n",
      "23/23 [==============================] - 84s 4s/step - loss: 1.6674 - categorical_accuracy: 0.4546 - val_loss: 1.1152 - val_categorical_accuracy: 0.5700\n",
      "\n",
      "Epoch 00002: saving model to model_init_2020-06-2917_59_29.166634/model-00002-1.62555-0.45928-1.11520-0.57000.h5\n",
      "Epoch 3/25\n",
      "23/23 [==============================] - 89s 4s/step - loss: 1.4270 - categorical_accuracy: 0.5174 - val_loss: 1.0315 - val_categorical_accuracy: 0.6600\n",
      "\n",
      "Epoch 00003: saving model to model_init_2020-06-2917_59_29.166634/model-00003-1.40578-0.51810-1.03152-0.66000.h5\n",
      "Epoch 4/25\n",
      "23/23 [==============================] - 89s 4s/step - loss: 1.3692 - categorical_accuracy: 0.5366 - val_loss: 0.9356 - val_categorical_accuracy: 0.6700\n",
      "\n",
      "Epoch 00004: saving model to model_init_2020-06-2917_59_29.166634/model-00004-1.30910-0.54449-0.93558-0.67000.h5\n",
      "Epoch 5/25\n",
      "23/23 [==============================] - 89s 4s/step - loss: 1.2161 - categorical_accuracy: 0.5729 - val_loss: 1.0062 - val_categorical_accuracy: 0.6600\n",
      "\n",
      "Epoch 00005: saving model to model_init_2020-06-2917_59_29.166634/model-00005-1.18364-0.58220-1.00616-0.66000.h5\n",
      "Epoch 6/25\n",
      "23/23 [==============================] - 89s 4s/step - loss: 1.1493 - categorical_accuracy: 0.5859 - val_loss: 0.9095 - val_categorical_accuracy: 0.6900\n",
      "\n",
      "Epoch 00006: saving model to model_init_2020-06-2917_59_29.166634/model-00006-1.11666-0.59578-0.90953-0.69000.h5\n",
      "Epoch 7/25\n",
      "23/23 [==============================] - 87s 4s/step - loss: 1.0191 - categorical_accuracy: 0.6376 - val_loss: 0.9001 - val_categorical_accuracy: 0.7000\n",
      "\n",
      "Epoch 00007: saving model to model_init_2020-06-2917_59_29.166634/model-00007-0.99369-0.63650-0.90006-0.70000.h5\n",
      "Epoch 8/25\n",
      "23/23 [==============================] - 88s 4s/step - loss: 1.0185 - categorical_accuracy: 0.6427 - val_loss: 0.9650 - val_categorical_accuracy: 0.6200\n",
      "\n",
      "Epoch 00008: saving model to model_init_2020-06-2917_59_29.166634/model-00008-0.99421-0.64178-0.96504-0.62000.h5\n",
      "Epoch 9/25\n",
      "23/23 [==============================] - 88s 4s/step - loss: 0.9815 - categorical_accuracy: 0.6292 - val_loss: 0.8401 - val_categorical_accuracy: 0.7000\n",
      "\n",
      "Epoch 00009: saving model to model_init_2020-06-2917_59_29.166634/model-00009-0.99537-0.63424-0.84012-0.70000.h5\n",
      "Epoch 10/25\n",
      "23/23 [==============================] - 88s 4s/step - loss: 0.9119 - categorical_accuracy: 0.6513 - val_loss: 0.7817 - val_categorical_accuracy: 0.7200\n",
      "\n",
      "Epoch 00010: saving model to model_init_2020-06-2917_59_29.166634/model-00010-0.89088-0.66365-0.78174-0.72000.h5\n",
      "Epoch 11/25\n",
      "23/23 [==============================] - 88s 4s/step - loss: 0.8889 - categorical_accuracy: 0.6764 - val_loss: 0.7469 - val_categorical_accuracy: 0.7600\n",
      "\n",
      "Epoch 00011: saving model to model_init_2020-06-2917_59_29.166634/model-00011-0.87754-0.68326-0.74690-0.76000.h5\n",
      "Epoch 12/25\n",
      "23/23 [==============================] - 88s 4s/step - loss: 0.8710 - categorical_accuracy: 0.6796 - val_loss: 0.7983 - val_categorical_accuracy: 0.7300\n",
      "\n",
      "Epoch 00012: saving model to model_init_2020-06-2917_59_29.166634/model-00012-0.80603-0.69306-0.79828-0.73000.h5\n",
      "Epoch 13/25\n",
      "23/23 [==============================] - 88s 4s/step - loss: 0.8168 - categorical_accuracy: 0.7037 - val_loss: 0.8650 - val_categorical_accuracy: 0.7100\n",
      "\n",
      "Epoch 00013: saving model to model_init_2020-06-2917_59_29.166634/model-00013-0.82273-0.70513-0.86497-0.71000.h5\n",
      "Epoch 14/25\n",
      "23/23 [==============================] - 89s 4s/step - loss: 0.7584 - categorical_accuracy: 0.7137 - val_loss: 0.8924 - val_categorical_accuracy: 0.7100\n",
      "\n",
      "Epoch 00014: saving model to model_init_2020-06-2917_59_29.166634/model-00014-0.74532-0.72851-0.89243-0.71000.h5\n",
      "Epoch 15/25\n",
      "23/23 [==============================] - 89s 4s/step - loss: 0.7053 - categorical_accuracy: 0.7400 - val_loss: 0.8178 - val_categorical_accuracy: 0.7500\n",
      "\n",
      "Epoch 00015: saving model to model_init_2020-06-2917_59_29.166634/model-00015-0.69418-0.74284-0.81785-0.75000.h5\n",
      "\n",
      "Epoch 00015: ReduceLROnPlateau reducing learning rate to 3.9999998989515007e-05.\n",
      "Epoch 16/25\n",
      "23/23 [==============================] - 89s 4s/step - loss: 0.6640 - categorical_accuracy: 0.7525 - val_loss: 0.7771 - val_categorical_accuracy: 0.7500\n",
      "\n",
      "Epoch 00016: saving model to model_init_2020-06-2917_59_29.166634/model-00016-0.68528-0.74284-0.77705-0.75000.h5\n",
      "Epoch 17/25\n",
      "23/23 [==============================] - 90s 4s/step - loss: 0.6574 - categorical_accuracy: 0.7391 - val_loss: 0.7319 - val_categorical_accuracy: 0.7200\n",
      "\n",
      "Epoch 00017: saving model to model_init_2020-06-2917_59_29.166634/model-00017-0.63233-0.75490-0.73187-0.72000.h5\n",
      "Epoch 18/25\n",
      "23/23 [==============================] - 89s 4s/step - loss: 0.6907 - categorical_accuracy: 0.7461 - val_loss: 0.7282 - val_categorical_accuracy: 0.7400\n",
      "\n",
      "Epoch 00018: saving model to model_init_2020-06-2917_59_29.166634/model-00018-0.65475-0.75566-0.72821-0.74000.h5\n",
      "Epoch 19/25\n",
      "23/23 [==============================] - 88s 4s/step - loss: 0.7137 - categorical_accuracy: 0.7384 - val_loss: 0.7253 - val_categorical_accuracy: 0.7300\n",
      "\n",
      "Epoch 00019: saving model to model_init_2020-06-2917_59_29.166634/model-00019-0.67192-0.75415-0.72529-0.73000.h5\n",
      "Epoch 20/25\n",
      "23/23 [==============================] - 89s 4s/step - loss: 0.6309 - categorical_accuracy: 0.7581 - val_loss: 0.7354 - val_categorical_accuracy: 0.7600\n",
      "\n",
      "Epoch 00020: saving model to model_init_2020-06-2917_59_29.166634/model-00020-0.62525-0.76169-0.73544-0.76000.h5\n",
      "Epoch 21/25\n",
      "23/23 [==============================] - 88s 4s/step - loss: 0.6389 - categorical_accuracy: 0.7559 - val_loss: 0.7291 - val_categorical_accuracy: 0.7700\n",
      "\n",
      "Epoch 00021: saving model to model_init_2020-06-2917_59_29.166634/model-00021-0.64448-0.75943-0.72906-0.77000.h5\n",
      "Epoch 22/25\n",
      "23/23 [==============================] - 88s 4s/step - loss: 0.6644 - categorical_accuracy: 0.7599 - val_loss: 0.7315 - val_categorical_accuracy: 0.7700\n",
      "\n",
      "Epoch 00022: saving model to model_init_2020-06-2917_59_29.166634/model-00022-0.61035-0.76998-0.73154-0.77000.h5\n",
      "Epoch 23/25\n",
      "23/23 [==============================] - 88s 4s/step - loss: 0.5816 - categorical_accuracy: 0.7789 - val_loss: 0.7499 - val_categorical_accuracy: 0.7700\n",
      "\n",
      "Epoch 00023: saving model to model_init_2020-06-2917_59_29.166634/model-00023-0.58101-0.77677-0.74993-0.77000.h5\n",
      "\n",
      "Epoch 00023: ReduceLROnPlateau reducing learning rate to 7.999999797903002e-06.\n",
      "Epoch 24/25\n",
      "23/23 [==============================] - 89s 4s/step - loss: 0.6935 - categorical_accuracy: 0.7561 - val_loss: 0.7494 - val_categorical_accuracy: 0.7600\n",
      "\n",
      "Epoch 00024: saving model to model_init_2020-06-2917_59_29.166634/model-00024-0.61207-0.77903-0.74942-0.76000.h5\n",
      "Epoch 25/25\n",
      "23/23 [==============================] - 88s 4s/step - loss: 0.6405 - categorical_accuracy: 0.7802 - val_loss: 0.7500 - val_categorical_accuracy: 0.7600\n",
      "\n",
      "Epoch 00025: saving model to model_init_2020-06-2917_59_29.166634/model-00025-0.58629-0.79110-0.75005-0.76000.h5\n"
     ]
    }
   ],
   "source": [
    "print(\"Total Params:\", conv_3d_model.count_params())\n",
    "history_model2=conv_3d.train_model(conv_3d_model,augment_data=True)"
   ]
  },
  {
   "cell_type": "code",
   "execution_count": 23,
   "metadata": {},
   "outputs": [
    {
     "data": {
      "image/png": "[encoded data removed]",
      "text/plain": [
       "<Figure size 1080x288 with 2 Axes>"
      ]
     },
     "metadata": {},
     "output_type": "display_data"
    }
   ],
   "source": [
    "plot(history_model2)"
   ]
  },
  {
   "cell_type": "code",
   "execution_count": null,
   "metadata": {},
   "outputs": [],
   "source": []
  }
 ],
 "metadata": {
  "kernelspec": {
   "display_name": "Python 3",
   "language": "python",
   "name": "python3"
  },
  "language_info": {
   "codemirror_mode": {
    "name": "ipython",
    "version": 3
   },
   "file_extension": ".py",
   "mimetype": "text/x-python",
   "name": "python",
   "nbconvert_exporter": "python",
   "pygments_lexer": "ipython3",
   "version": "3.6.8"
  }
 },
 "nbformat": 4,
 "nbformat_minor": 2
}
